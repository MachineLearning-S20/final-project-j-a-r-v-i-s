{
  "nbformat": 4,
  "nbformat_minor": 0,
  "metadata": {
    "colab": {
      "name": "test.ipynb",
      "provenance": []
    },
    "kernelspec": {
      "name": "python3",
      "display_name": "Python 3"
    }
  },
  "cells": [
    {
      "cell_type": "code",
      "metadata": {
        "id": "OtZtBzRHL9qI",
        "colab_type": "code",
        "colab": {}
      },
      "source": [
        "import numpy as np\n",
        "import torch\n",
        "from torch.utils.data import Dataset, DataLoader\n",
        "\n",
        "import numpy as np\n",
        "import torch\n",
        "import torch.nn as nn\n",
        "import torch.nn.functional as F\n",
        "import torch.optim as optim\n",
        "from torch.autograd import Variable\n",
        "from torchvision import transforms\n",
        "import torch.utils.data as data\n",
        "from torch.utils.data.dataset import Dataset\n",
        "from torchvision.models.resnet import ResNet, BasicBlock\n",
        "from sklearn.model_selection import train_test_split\n",
        "\n",
        "import pandas as pd\n",
        "import matplotlib.pyplot as plt\n",
        "import seaborn as sns\n",
        "import cv2\n",
        "from skimage.color import rgb2gray\n",
        "%matplotlib inline\n",
        "\n",
        "from sklearn import metrics\n",
        "import matplotlib.image as mpimg\n",
        "import random\n",
        "from scipy import interp\n",
        "from itertools import cycle\n",
        "import datetime \n",
        "\n",
        "import cv2\n",
        "import numpy as np\n",
        "from skimage import io \n",
        "from skimage.transform import rotate, AffineTransform, warp\n",
        "import matplotlib.pyplot as plt\n",
        "import random\n",
        "from skimage import img_as_ubyte\n",
        "import os\n",
        "from skimage.util import random_noise"
      ],
      "execution_count": 0,
      "outputs": []
    },
    {
      "cell_type": "code",
      "metadata": {
        "id": "921mDl_VldgI",
        "colab_type": "code",
        "colab": {}
      },
      "source": [
        "# https://www.kaggle.com/justuser/sign-language-classifier-convnet-with-pytorch\n",
        " class Network(nn.Module):   \n",
        "    def __init__(self):\n",
        "        super(Network, self).__init__()\n",
        "        self.conv1 = nn.Conv2d(1, 10, 3)\n",
        "        self.pool1 = nn.MaxPool2d(2)\n",
        "        \n",
        "        self.conv2 = nn.Conv2d(10, 20, 3) #15 or 20\n",
        "        self.pool2 = nn.MaxPool2d(2)\n",
        "        \n",
        "        self.conv3 = nn.Conv2d(20, 30, 3) #20 or 30\n",
        "        self.dropout1 = nn.Dropout2d()\n",
        "        \n",
        "        self.fc3 = nn.Linear(30 * 9 * 9, 270) \n",
        "        self.fc4 = nn.Linear(270, 9) \n",
        "        \n",
        "        self.softmax = nn.LogSoftmax(dim=1)\n",
        "    \n",
        "    \n",
        "    def forward(self, x):\n",
        "        x = self.conv1(x)\n",
        "        x = F.relu(x)\n",
        "        x = self.pool1(x)\n",
        "        \n",
        "        x = self.conv2(x)\n",
        "        x = F.relu(x)\n",
        "        x = self.pool2(x)\n",
        "        \n",
        "        x = self.conv3(x)\n",
        "        x = F.relu(x)\n",
        "        x = self.dropout1(x)\n",
        "                \n",
        "        x = x.view(-1, 30 * 9 * 9) \n",
        "        x = F.relu(self.fc3(x))\n",
        "        x = F.relu(self.fc4(x))\n",
        "        \n",
        "        return self.softmax(x)\n",
        "        "
      ],
      "execution_count": 0,
      "outputs": []
    },
    {
      "cell_type": "code",
      "metadata": {
        "id": "GO3fam_XJI64",
        "colab_type": "code",
        "colab": {}
      },
      "source": [
        "def test(X):\n",
        "\n",
        "    # Preprocessing\n",
        "    X_norm = []\n",
        "    for i in range(X.shape[0]):\n",
        "        img = X[i]\n",
        "        img_r = cv2.resize(img, dsize=(50,50), interpolation=cv2.INTER_CUBIC)\n",
        "        img_g = rgb2gray(img_r)\n",
        "        img_1d = img_g.flatten()\n",
        "        X_norm.append(img_1d)\n",
        "    X_norm = np.asarray(X_norm)\n",
        "\n",
        "    # Converting to shape for tensor\n",
        "    X_2d = []\n",
        "    for i in X_norm:\n",
        "          X_2d.append(i.reshape(1, 50, 50))\n",
        "    X_2d = np.array(X_2d)\n",
        "    \n",
        "    # Converting to tensor\n",
        "    data = torch.FloatTensor(X_2d)\n",
        "\n",
        "    # Loading model\n",
        "    model = Network()\n",
        "    model.load_state_dict(torch.load('final_model.pth'))\n",
        "    model.eval()\n",
        "\n",
        "    #Running model\n",
        "    predictions = model(data)\n",
        "    y_pred = torch.max(predictions.data, 1)[1]\n",
        "    y_pred = y_pred.numpy()\n",
        "    y_pred += 1\n",
        "    y_pred = y_pred.reshape(len(y_pred),1) # Can delete if output is wished to be 1D array\n",
        "\n",
        "    return y_pred"
      ],
      "execution_count": 0,
      "outputs": []
    },
    {
      "cell_type": "code",
      "metadata": {
        "id": "MhR9M1GEwVXs",
        "colab_type": "code",
        "colab": {}
      },
      "source": [
        ""
      ],
      "execution_count": 0,
      "outputs": []
    }
  ]
}